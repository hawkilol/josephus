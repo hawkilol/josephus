{
  "nbformat": 4,
  "nbformat_minor": 0,
  "metadata": {
    "colab": {
      "provenance": [],
      "authorship_tag": "ABX9TyNs0iBpH3mBXyHiBV4b6YrL",
      "include_colab_link": true
    },
    "kernelspec": {
      "name": "python3",
      "display_name": "Python 3"
    },
    "language_info": {
      "name": "python"
    }
  },
  "cells": [
    {
      "cell_type": "markdown",
      "metadata": {
        "id": "view-in-github",
        "colab_type": "text"
      },
      "source": [
        "<a href=\"https://colab.research.google.com/github/hawkilol/josephus/blob/main/josephus.ipynb\" target=\"_parent\"><img src=\"https://colab.research.google.com/assets/colab-badge.svg\" alt=\"Open In Colab\"/></a>"
      ]
    },
    {
      "cell_type": "code",
      "source": [
        "import time\n",
        "import matplotlib.pyplot as plt\n",
        "import numpy as np"
      ],
      "metadata": {
        "id": "na47Yob5wRiG"
      },
      "execution_count": 1,
      "outputs": []
    },
    {
      "cell_type": "code",
      "execution_count": 2,
      "metadata": {
        "id": "v15GE6nev8SP"
      },
      "outputs": [],
      "source": [
        "def josephus(n, k):\n",
        " \n",
        "    if (n <= 1):\n",
        "        return 1\n",
        "    else:\n",
        " \n",
        "        return (josephus(n - 1, k) + k-1) % n + 1"
      ]
    },
    {
      "cell_type": "code",
      "source": [
        "print(josephus(0,2))"
      ],
      "metadata": {
        "colab": {
          "base_uri": "https://localhost:8080/"
        },
        "id": "BfRqGFzEwhAK",
        "outputId": "e3bb8c5a-f6cf-47c2-89e8-3f83226e0cb8"
      },
      "execution_count": 3,
      "outputs": [
        {
          "output_type": "stream",
          "name": "stdout",
          "text": [
            "1\n"
          ]
        }
      ]
    },
    {
      "cell_type": "code",
      "source": [
        "timesInte = []\n",
        "timesRecur = []\n",
        "\n",
        "#arr = np.random.randint(999, size=100)\n",
        "#arr = np.sort(arr)\n",
        "arr = []\n",
        "max_n = 500\n",
        "\n",
        "##busca_binaria(arr, x, 0, last)\n",
        "k = 2\n",
        "for n in range(max_n):\n",
        "  \n",
        "  #arr1 = arr[:j]\n",
        "  \n",
        "\n",
        "  start_time = time.time()\n",
        "  josephus(n,k)\n",
        "  tInte = (time.time() - start_time)\n",
        "  timesInte.append(tInte)\n",
        "\n",
        "y1 = timesInte\n",
        "\n",
        "#print(y2)\n",
        "\n",
        "x = np.arange(len(y1))  # the label locations\n",
        "\n",
        "# # #print(power_smooth)\n",
        "# plt.show()\n",
        "# %matplotlib inline\n",
        "# plt.xlabel(\"No. of elements\")\n",
        "# plt.ylabel(\"Time required\")\n",
        "# plt.plot(x, y1)\n",
        "# plt.show()\n",
        "\n",
        "y1 = timesInte\n",
        "\n",
        "x = np.arange(len(y1))  # the label locations\n",
        "\n",
        "width = 0.5  # the width of the bars\n",
        "\n",
        "fig, ax = plt.subplots()\n",
        "rects1 = ax.bar(x + width, y1, width, label='JOSEPHU')\n",
        "\n",
        "ax.set_ylabel('Times')\n",
        "ax.set_xlabel('N individuos(x)')\n",
        "\n",
        "ax.legend()\n",
        "\n",
        "#plt.style.use('black')\n",
        "\n",
        "#fig.tight_layout()\n",
        "\n",
        "plt.show()"
      ],
      "metadata": {
        "colab": {
          "base_uri": "https://localhost:8080/",
          "height": 279
        },
        "id": "drz4pE2Swl7y",
        "outputId": "ae912220-ae8e-46d1-d624-de705afdb4d1"
      },
      "execution_count": 10,
      "outputs": [
        {
          "output_type": "display_data",
          "data": {
            "text/plain": [
              "<Figure size 432x288 with 1 Axes>"
            ],
            "image/png": "[encoded data removed]"
          },
          "metadata": {
            "needs_background": "light"
          }
        }
      ]
    },
    {
      "cell_type": "code",
      "source": [
        "# #print(power_smooth)\n",
        "plt.show()\n",
        "%matplotlib inline\n",
        "plt.xlabel(\"No. of elements\")\n",
        "plt.ylabel(\"Time required\")\n",
        "plt.plot(x, y1)\n",
        "plt.show()"
      ],
      "metadata": {
        "colab": {
          "base_uri": "https://localhost:8080/",
          "height": 279
        },
        "id": "gWKKPgf1wgeu",
        "outputId": "e6dc6775-3e58-4b70-aad4-c10d3b024c76"
      },
      "execution_count": 11,
      "outputs": [
        {
          "output_type": "display_data",
          "data": {
            "text/plain": [
              "<Figure size 432x288 with 1 Axes>"
            ],
            "image/png": "[encoded data removed]"
          },
          "metadata": {
            "needs_background": "light"
          }
        }
      ]
    }
  ]
}